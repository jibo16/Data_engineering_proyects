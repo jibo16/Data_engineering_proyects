{
 "cells": [
  {
   "cell_type": "code",
   "execution_count": 3,
   "id": "0fc59e7d-01c1-4874-8d31-591ecd0e306a",
   "metadata": {},
   "outputs": [],
   "source": [
    "import os\n",
    "from twilio.rest import Client\n",
    "from twilio_config import TWILIO_ACCOUNT_SID, TWILIO_AUTH_TOKEN, PHONE_NUMBER, API_KEY_WAPI\n",
    "import time\n",
    "\n",
    "from requests import Request, Session\n",
    "from requests.exceptions import ConnectionError, Timeout, TooManyRedirects\n",
    "import json\n",
    "import pandas\n",
    "import requests\n"
   ]
  },
  {
   "cell_type": "code",
   "execution_count": null,
   "id": "ec0d6aa8-d631-4826-83eb-7004887f1ca0",
   "metadata": {},
   "outputs": [],
   "source": [
    "request_url = f\"http://api.weatherapi.com/v1/forecast.json?key={API_KEY_WAPI}&q=mexico city&days=1&aqi=no&alerts=no\""
   ]
  },
  {
   "cell_type": "code",
   "execution_count": null,
   "id": "57bcc2bd-a611-4239-8439-87e6ed625b5b",
   "metadata": {},
   "outputs": [],
   "source": []
  }
 ],
 "metadata": {
  "kernelspec": {
   "display_name": "Python 3 (ipykernel)",
   "language": "python",
   "name": "python3"
  },
  "language_info": {
   "codemirror_mode": {
    "name": "ipython",
    "version": 3
   },
   "file_extension": ".py",
   "mimetype": "text/x-python",
   "name": "python",
   "nbconvert_exporter": "python",
   "pygments_lexer": "ipython3",
   "version": "3.11.4"
  }
 },
 "nbformat": 4,
 "nbformat_minor": 5
}
